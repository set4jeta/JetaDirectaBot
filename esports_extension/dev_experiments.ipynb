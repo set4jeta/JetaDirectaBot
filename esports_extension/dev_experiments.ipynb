{
 "cells": [
  {
   "cell_type": "code",
   "execution_count": null,
   "id": "afb2adf5",
   "metadata": {
    "vscode": {
     "languageId": "plaintext"
    }
   },
   "outputs": [],
   "source": [
    "Explicación Paso a Paso\n",
    "1. Funciones y Métodos Involucrados\n",
    "Componente\tPropósito\n",
    "to_dict()\tConvierte un objeto TrackedMatch en un diccionario serializable.\n",
    "from_dict()\tReconstruye un objeto TrackedMatch desde un diccionario.\n",
    "save_to_json()\tGuarda un diccionario de TrackedMatch en un archivo JSON.\n",
    "load_from_json()\tLee un archivo JSON y reconstruye el diccionario de TrackedMatch.\n",
    "2. Cómo Interactúan\n",
    "a) Guardar Datos (save_to_json)\n",
    "Paso 1: Convertir cada TrackedMatch en diccionario usando to_dict().\n",
    "\n",
    "Paso 2: Guardar el diccionario resultante en un archivo JSON."
   ]
  }
 ],
 "metadata": {
  "language_info": {
   "name": "python"
  }
 },
 "nbformat": 4,
 "nbformat_minor": 5
}
